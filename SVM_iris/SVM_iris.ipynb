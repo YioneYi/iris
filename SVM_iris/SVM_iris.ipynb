{
 "cells": [
  {
   "cell_type": "code",
   "execution_count": 1,
   "metadata": {
    "collapsed": true
   },
   "outputs": [],
   "source": [
    "import pandas as pd\n",
    "from sklearn.svm import SVC\n",
    "from sklearn.model_selection import train_test_split\n",
    "from sklearn.metrics import accuracy_score"
   ]
  },
  {
   "cell_type": "code",
   "execution_count": 2,
   "metadata": {},
   "outputs": [
    {
     "name": "stdout",
     "output_type": "stream",
     "text": [
      "   Sepal.Length  Sepal.Width  Petal.Length  Petal.Width  Species\n",
      "0           5.1          3.5           1.4          0.2        0\n",
      "1           4.9          3.0           1.4          0.2        0\n",
      "2           4.7          3.2           1.3          0.2        0\n",
      "3           4.6          3.1           1.5          0.2        0\n",
      "4           5.0          3.6           1.4          0.2        0\n"
     ]
    }
   ],
   "source": [
    "# 加载数据\n",
    "data = pd.read_csv(r\"iris_train.csv\")\n",
    "print(data.head())"
   ]
  },
  {
   "cell_type": "code",
   "execution_count": 3,
   "metadata": {},
   "outputs": [
    {
     "name": "stdout",
     "output_type": "stream",
     "text": [
      "accuracy:1.0000\n"
     ]
    }
   ],
   "source": [
    "# 分割数据\n",
    "cols = ['Sepal.Length', 'Sepal.Width', 'Petal.Length', 'Petal.Width']\n",
    "X = data[cols]\n",
    "y = data['Species']\n",
    "X_train, X_test, Y_train, Y_test = train_test_split(X, y, test_size=0.1, random_state=1)\n",
    "# 训练数据\n",
    "model = SVC(gamma='auto')\n",
    "model.fit(X_train, Y_train)\n",
    "predictions = model.predict(X_test)\n",
    "print('accuracy:%.4f' % accuracy_score(Y_test, predictions))\n",
    "# 保存模型\n",
    "pd.to_pickle(model, r\"new_model.pickle\")"
   ]
  },
  {
   "cell_type": "code",
   "execution_count": 4,
   "metadata": {},
   "outputs": [
    {
     "name": "stdout",
     "output_type": "stream",
     "text": [
      "[0] [5.1, 3.5, 1.4, 0.2]\n",
      "[0] [4.9, 3.0, 1.4, 0.2]\n",
      "[0] [4.7, 3.2, 1.3, 0.2]\n",
      "[0] [4.6, 3.1, 1.5, 0.2]\n",
      "[0] [5.0, 3.6, 1.4, 0.2]\n",
      "[1] [7.0, 3.2, 4.7, 1.4]\n",
      "[1] [6.4, 3.2, 4.5, 1.5]\n",
      "[1] [6.9, 3.1, 4.9, 1.5]\n",
      "[1] [5.5, 2.3, 4.0, 1.3]\n",
      "[1] [6.5, 2.8, 4.6, 1.5]\n",
      "[2] [6.3, 3.3, 6.0, 2.5]\n",
      "[2] [5.8, 2.7, 5.1, 1.9]\n",
      "[2] [7.1, 3.0, 5.9, 2.1]\n",
      "[2] [6.3, 2.9, 5.6, 1.8]\n",
      "[2] [6.5, 3.0, 5.8, 2.2]\n"
     ]
    }
   ],
   "source": [
    "model = pd.read_pickle(r\"new_model.pickle\")\n",
    "test_iris = [[5.1, 3.5, 1.4, 0.2], [4.9, 3.0, 1.4, 0.2], [4.7, 3.2, 1.3, 0.2], [4.6, 3.1, 1.5, 0.2], [5.0, 3.6, 1.4, 0.2], \n",
    "             [7.0, 3.2, 4.7, 1.4], [6.4, 3.2, 4.5, 1.5], [6.9, 3.1, 4.9, 1.5], [5.5, 2.3, 4.0, 1.3], [6.5, 2.8, 4.6, 1.5], \n",
    "             [6.3, 3.3, 6.0, 2.5], [5.8, 2.7, 5.1, 1.9], [7.1, 3.0, 5.9, 2.1], [6.3, 2.9, 5.6, 1.8], [6.5, 3.0, 5.8, 2.2]]\n",
    "\n",
    "for i in range(len(test_iris)):\n",
    "    results = model.predict([test_iris[i]])\n",
    "    print(results,test_iris[i])"
   ]
  },
  {
   "cell_type": "code",
   "execution_count": null,
   "metadata": {
    "collapsed": true
   },
   "outputs": [],
   "source": []
  }
 ],
 "metadata": {
  "kernelspec": {
   "display_name": "Python 3",
   "language": "python",
   "name": "python3"
  },
  "language_info": {
   "codemirror_mode": {
    "name": "ipython",
    "version": 3
   },
   "file_extension": ".py",
   "mimetype": "text/x-python",
   "name": "python",
   "nbconvert_exporter": "python",
   "pygments_lexer": "ipython3",
   "version": "3.6.2"
  }
 },
 "nbformat": 4,
 "nbformat_minor": 2
}
